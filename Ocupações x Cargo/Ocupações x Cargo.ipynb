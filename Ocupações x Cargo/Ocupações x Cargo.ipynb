{
 "cells": [
  {
   "cell_type": "code",
   "execution_count": null,
   "metadata": {},
   "outputs": [],
   "source": [
    "import pandas as pd\n",
    "import numpy as np"
   ]
  },
  {
   "cell_type": "code",
   "execution_count": null,
   "metadata": {},
   "outputs": [],
   "source": [
    "pd.options.display.max_rows = 1000\n",
    "pd.options.display.max_rows"
   ]
  },
  {
   "cell_type": "code",
   "execution_count": null,
   "metadata": {},
   "outputs": [],
   "source": [
    "profissoes = pd.read_csv(\"ocupacao_cargo.csv\", delimiter =';', encoding='latin-1')"
   ]
  },
  {
   "cell_type": "code",
   "execution_count": null,
   "metadata": {},
   "outputs": [],
   "source": [
    "profissoes.head() # ver as 5ºs linhas"
   ]
  },
  {
   "cell_type": "code",
   "execution_count": null,
   "metadata": {},
   "outputs": [],
   "source": [
    "profissoes.drop(['Porcentagem (%)', 'Unnamed: 5', 'Abrangência'], axis=1, inplace=True) #apagando o que não quero"
   ]
  },
  {
   "cell_type": "code",
   "execution_count": null,
   "metadata": {},
   "outputs": [],
   "source": [
    "profissoes[\"Cargo\"].unique() #me mostre o que tem"
   ]
  },
  {
   "cell_type": "code",
   "execution_count": null,
   "metadata": {},
   "outputs": [],
   "source": [
    "DeputadoDistrital = profissoes.loc[profissoes['Cargo']=='Deputado Distrital'] #selecionando apenas cargo de Deputado Distrital"
   ]
  },
  {
   "cell_type": "code",
   "execution_count": null,
   "metadata": {},
   "outputs": [],
   "source": [
    "DeputadoDistrital.sort_values(by = \"Quantitativo\", ascending = False) #ver em ordem de > para <"
   ]
  },
  {
   "cell_type": "code",
   "execution_count": null,
   "metadata": {},
   "outputs": [],
   "source": [
    "DeputadoEstadual = profissoes.loc[profissoes['Cargo']=='Deputado Estadual'] #selecionando apenas cargo de Deputado Estadual"
   ]
  },
  {
   "cell_type": "code",
   "execution_count": null,
   "metadata": {},
   "outputs": [],
   "source": [
    "DeputadoEstadual.sort_values(by = \"Quantitativo\", ascending = False) #ver em ordem de > para <"
   ]
  },
  {
   "cell_type": "code",
   "execution_count": null,
   "metadata": {},
   "outputs": [],
   "source": [
    "DeputadoFederal = profissoes.loc[profissoes['Cargo']=='Deputado Federal'] #selecionando apenas cargo de Deputado Federal"
   ]
  },
  {
   "cell_type": "code",
   "execution_count": null,
   "metadata": {},
   "outputs": [],
   "source": [
    "DeputadoFederal.sort_values(by = \"Quantitativo\", ascending = False) #ver em ordem de > para <"
   ]
  },
  {
   "cell_type": "code",
   "execution_count": null,
   "metadata": {},
   "outputs": [],
   "source": [
    "Governador = profissoes.loc[profissoes['Cargo']=='Governador'] #selecionando apenas cargo de Governador"
   ]
  },
  {
   "cell_type": "code",
   "execution_count": null,
   "metadata": {},
   "outputs": [],
   "source": [
    "Governador.sort_values(by = \"Quantitativo\", ascending = False) #ver em ordem de > para <"
   ]
  },
  {
   "cell_type": "code",
   "execution_count": null,
   "metadata": {},
   "outputs": [],
   "source": [
    "Senador = profissoes.loc[profissoes['Cargo']=='Senador'] #selecionando apenas cargo de Senador"
   ]
  },
  {
   "cell_type": "code",
   "execution_count": null,
   "metadata": {},
   "outputs": [],
   "source": [
    "Senador.sort_values(by = \"Quantitativo\", ascending = False) #ver em ordem de > para <"
   ]
  },
  {
   "cell_type": "code",
   "execution_count": null,
   "metadata": {},
   "outputs": [],
   "source": [
    "SenadorSuplente = profissoes.loc[profissoes['Cargo']=='Senador 1º Suplente'] #selecionando apenas cargo de Senador 1º Suplente"
   ]
  },
  {
   "cell_type": "code",
   "execution_count": null,
   "metadata": {},
   "outputs": [],
   "source": [
    "SenadorSuplente.sort_values(by = \"Quantitativo\", ascending = False) #ver em ordem de > para <"
   ]
  },
  {
   "cell_type": "code",
   "execution_count": null,
   "metadata": {},
   "outputs": [],
   "source": [
    "SenadorSuplente2 = profissoes.loc[profissoes['Cargo']=='Senador 2º Suplente'] #selecionando apenas cargo de Senador 2º Suplente"
   ]
  },
  {
   "cell_type": "code",
   "execution_count": null,
   "metadata": {},
   "outputs": [],
   "source": [
    "SenadorSuplente2.sort_values(by = \"Quantitativo\", ascending = False) #ver em ordem de > para <"
   ]
  },
  {
   "cell_type": "code",
   "execution_count": null,
   "metadata": {},
   "outputs": [],
   "source": [
    "Vicegovernador = profissoes.loc[profissoes['Cargo']=='Vice-governador']"
   ]
  },
  {
   "cell_type": "code",
   "execution_count": null,
   "metadata": {},
   "outputs": [],
   "source": [
    "Vicegovernador.sort_values(by = \"Quantitativo\", ascending = False) #ver em ordem de > para <"
   ]
  },
  {
   "cell_type": "code",
   "execution_count": null,
   "metadata": {},
   "outputs": [],
   "source": [
    "Presidente = profissoes.loc[profissoes['Cargo']=='Presidente'] #selecionando apenas cargo de Presidente"
   ]
  },
  {
   "cell_type": "code",
   "execution_count": null,
   "metadata": {},
   "outputs": [],
   "source": [
    "Presidente.sort_values(by = \"Quantitativo\", ascending = False) #ver em ordem de > para <"
   ]
  },
  {
   "cell_type": "code",
   "execution_count": null,
   "metadata": {},
   "outputs": [],
   "source": [
    "Vicepresidente = profissoes.loc[profissoes['Cargo']=='Vice-presidente'] #selecionando apenas cargo de Vice-presidente"
   ]
  },
  {
   "cell_type": "code",
   "execution_count": null,
   "metadata": {},
   "outputs": [],
   "source": [
    "Vicepresidente.sort_values(by = \"Quantitativo\", ascending = False) #ver em ordem de > para <"
   ]
  }
 ],
 "metadata": {
  "kernelspec": {
   "display_name": "Python 3",
   "language": "python",
   "name": "python3"
  },
  "language_info": {
   "codemirror_mode": {
    "name": "ipython",
    "version": 3
   },
   "file_extension": ".py",
   "mimetype": "text/x-python",
   "name": "python",
   "nbconvert_exporter": "python",
   "pygments_lexer": "ipython3",
   "version": "3.6.5"
  }
 },
 "nbformat": 4,
 "nbformat_minor": 2
}
